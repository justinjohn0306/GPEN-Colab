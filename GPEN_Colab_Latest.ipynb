{
  "nbformat": 4,
  "nbformat_minor": 0,
  "metadata": {
    "colab": {
      "name": "GPEN_Colab_Latest.ipynb",
      "provenance": [],
      "collapsed_sections": []
    },
    "kernelspec": {
      "name": "python3",
      "display_name": "Python 3"
    },
    "language_info": {
      "name": "python"
    },
    "accelerator": "GPU"
  },
  "cells": [
    {
      "cell_type": "markdown",
      "source": [
        "# **GPEN Colab**\n",
        "\n",
        "___\n",
        "\n",
        "Simplified by [justinjohn-03](https://github.com/justinjohn0306)\n",
        "\n",
        "Visit the original repo: [yangxy](https://github.com/yangxy/GPEN)"
      ],
      "metadata": {
        "id": "SjmxA7PVv-KJ"
      }
    },
    {
      "cell_type": "markdown",
      "metadata": {
        "id": "7TLDy5mi1rid"
      },
      "source": [
        "# **Run once only!**"
      ]
    },
    {
      "cell_type": "code",
      "metadata": {
        "id": "--fxPES99Cp0",
        "cellView": "form"
      },
      "source": [
        "#@markdown #**Setup**\n",
        "!git clone https://github.com/yangxy/GPEN\n",
        "\n",
        "%cd GPEN\n",
        "\n",
        "!pip install torch==1.7.1 torchvision==0.8.2 torchaudio==0.7.2\n",
        "!pip install pip install opencv-python\n",
        "\n",
        "\n",
        "!wget https://github.com/ninja-build/ninja/releases/download/v1.8.2/ninja-linux.zip\n",
        "!sudo unzip ninja-linux.zip -d /usr/local/bin/\n",
        "!sudo update-alternatives --install /usr/bin/ninja ninja /usr/local/bin/ninja 1 --force"
      ],
      "execution_count": null,
      "outputs": []
    },
    {
      "cell_type": "code",
      "metadata": {
        "id": "t8AU9f7U-vKz",
        "cellView": "form"
      },
      "source": [
        "#@markdown ###**Download the pretrained models**\n",
        "!wget \"https://public-vigen-video.oss-cn-shanghai.aliyuncs.com/robin/models/RetinaFace-R50.pth?OSSAccessKeyId=LTAI4G6bfnyW4TA4wFUXTYBe&Expires=1961116085&Signature=GlUNW6%2B8FxvxWmE9jKIZYOOciKQ%3D\" -O weights/RetinaFace-R50.pth\n",
        "!wget \"https://public-vigen-video.oss-cn-shanghai.aliyuncs.com/robin/models/GPEN-BFR-512.pth?OSSAccessKeyId=LTAI4G6bfnyW4TA4wFUXTYBe&Expires=1961116208&Signature=hBgvVvKVSNGeXqT8glG%2Bd2t2OKc%3D\" -O weights/GPEN-BFR-512.pth\n",
        "!wget \"https://public-vigen-video.oss-cn-shanghai.aliyuncs.com/robin/models/GPEN-BFR-512-D.pth?OSSAccessKeyId=LTAI4G6bfnyW4TA4wFUXTYBe&Expires=1961116234&Signature=mP7MvYhKjbsIM2lhmuaEysssWpc%3D\" -O weights/GPEN-BFR-512-D.pth\n",
        "!wget \"https://public-vigen-video.oss-cn-shanghai.aliyuncs.com/robin/models/GPEN-BFR-256.pth?OSSAccessKeyId=LTAI4G6bfnyW4TA4wFUXTYBe&Expires=1961116259&Signature=kMGJLSHqnvzzzqwtjUVBgngzX2s%3D\" -O weights/GPEN-BFR-256.pth\n",
        "!wget \"https://public-vigen-video.oss-cn-shanghai.aliyuncs.com/robin/models/GPEN-BFR-256-D.pth?OSSAccessKeyId=LTAI4G6bfnyW4TA4wFUXTYBe&Expires=1961116288&Signature=b7NCfHFzyqKh%2BfaLrRCwMIIZ2HA%3D\" -O weights/GPEN-BFR-256-D.pth\n",
        "!wget \"https://public-vigen-video.oss-cn-shanghai.aliyuncs.com/robin/models/ParseNet-latest.pth?OSSAccessKeyId=LTAI4G6bfnyW4TA4wFUXTYBe&Expires=1961116134&Signature=bnMwU1JogmNbARto6G%2B7iaJQCHs%3D\" -O weights/ParseNet-latest.pth\n",
        "!wget \"https://public-vigen-video.oss-cn-shanghai.aliyuncs.com/robin/models/GPEN-Colorization-1024.pth?OSSAccessKeyId=LTAI4G6bfnyW4TA4wFUXTYBe&Expires=1961116315&Signature=9tPavW2h%2F1LhIKiXj73sTQoWqcc%3D\" -O weights/GPEN-Colorization-1024.pth\n",
        "!wget \"https://public-vigen-video.oss-cn-shanghai.aliyuncs.com/robin/models/GPEN-Inpainting-1024.pth?OSSAccessKeyId=LTAI4G6bfnyW4TA4wFUXTYBe&Expires=1961116338&Signature=tvYhdLaLgW7UdcUrApXp2jsek8w%3D\" -O weights/GPEN-Inpainting-1024.pth\n",
        "!wget \"https://public-vigen-video.oss-cn-shanghai.aliyuncs.com/robin/models/model_ir_se50.pth?OSSAccessKeyId=LTAI4G6bfnyW4TA4wFUXTYBe&Expires=1961116170&Signature=jEyBslytwpWoh5DfKvYe2H31GgE%3D\" -O weights/model_ir_se50.pth\n",
        "!wget \"https://public-vigen-video.oss-cn-shanghai.aliyuncs.com/robin/models/GPEN-BFR-512.pth?OSSAccessKeyId=LTAI4G6bfnyW4TA4wFUXTYBe&Expires=1961116208&Signature=hBgvVvKVSNGeXqT8glG%2Bd2t2OKc%3D\" -O weights/GPEN-BFR-512.pth\n",
        "!wget \"https://public-vigen-video.oss-cn-shanghai.aliyuncs.com/robin/models/GPEN-Seg2face-512.pth?OSSAccessKeyId=LTAI4G6bfnyW4TA4wFUXTYBe&Expires=1961116362&Signature=VOaHmjFy5YVBjMoNTpVk2KDJx9k%3D\" -O weights/GPEN-Seg2face-512.pth\n",
        "!wget \"https://public-vigen-video.oss-cn-shanghai.aliyuncs.com/robin/models/realesrnet_x2.pth?OSSAccessKeyId=LTAI4G6bfnyW4TA4wFUXTYBe&Expires=1962694780&Signature=lI%2FolhA%2FyigiTRvoDIVbtMIyhjI%3D\" -O weights/realesrnet_x2.pth\n",
        "!wget \"https://public-vigen-video.oss-cn-shanghai.aliyuncs.com/robin/models/realesrnet_x4.pth?OSSAccessKeyId=LTAI4G6bfnyW4TA4wFUXTYBe&Expires=1962694847&Signature=MA5E%2FLp88oCz4kFINWdmeuSh7c4%3D\" -O weights/realesrnet_x4.pth"
      ],
      "execution_count": null,
      "outputs": []
    },
    {
      "cell_type": "markdown",
      "metadata": {
        "id": "MHS0GTSK1hnf"
      },
      "source": [
        "# **Main Code**\n",
        "\n"
      ]
    },
    {
      "cell_type": "code",
      "metadata": {
        "id": "NOo9qIPb1Ivn",
        "cellView": "form"
      },
      "source": [
        "#@markdown ### **Run face enhancement**\n",
        "#@markdown you can edit this cell if you like (refer the repo)\n",
        "!python demo.py --task FaceEnhancement --model GPEN-BFR-512 --in_size 512 --channel_multiplier 2 --narrow 1 --use_sr --sr_scale 4 --use_cuda --save_face --indir examples/imgs --outdir examples/outs-bfr"
      ],
      "execution_count": null,
      "outputs": []
    },
    {
      "cell_type": "code",
      "metadata": {
        "id": "XeAs7bPg1KpZ",
        "cellView": "form"
      },
      "source": [
        "#@markdown ### **Run face colorization**\n",
        "#@markdown you can edit this cell if you like (refer the repo)\n",
        "!python demo.py --task FaceColorization --model GPEN-Colorization-1024 --in_size 1024 --use_cuda --indir examples/grays --outdir examples/outs-colorization"
      ],
      "execution_count": null,
      "outputs": []
    },
    {
      "cell_type": "code",
      "source": [
        "#@markdown ### **Complete faces (FaceInpainting)**\n",
        "!python demo.py --task FaceInpainting --model GPEN-Inpainting-1024 --in_size 1024 --use_cuda --indir examples/ffhq-10 --outdir examples/outs-inpainting"
      ],
      "metadata": {
        "cellView": "form",
        "id": "mpog6orMkuot"
      },
      "execution_count": null,
      "outputs": []
    },
    {
      "cell_type": "code",
      "source": [
        "#@markdown ### **Synthesize faces (Segmentation2Face)**\n",
        "!python demo.py --task Segmentation2Face --model GPEN-Seg2face-512 --in_size 512 --use_cuda --indir examples/segs --outdir examples/outs-seg2face"
      ],
      "metadata": {
        "cellView": "form",
        "id": "Y57FC9dPk5vR"
      },
      "execution_count": null,
      "outputs": []
    },
    {
      "cell_type": "markdown",
      "source": [
        "# **Optional**"
      ],
      "metadata": {
        "id": "pibaGFyftyVv"
      }
    },
    {
      "cell_type": "code",
      "source": [
        "#@markdown #Clear all results directory\n",
        "%cd /content/GPEN/examples\n",
        "!rm -fr outs-colorization\n",
        "!mkdir outs-colorization\n",
        "!rm -fr outs-inpainting\n",
        "!mkdir outs-inpainting\n",
        "!rm -fr outs-seg2face\n",
        "!mkdir outs-seg2face\n",
        "!rm -fr outs-bfr\n",
        "!mkdir outs-bfr\n",
        "%cd /content/GPEN/"
      ],
      "metadata": {
        "cellView": "form",
        "id": "F9zug70ErCsl"
      },
      "execution_count": null,
      "outputs": []
    },
    {
      "cell_type": "code",
      "source": [
        "#@markdown # Clear all examples directory\n",
        "%cd /content/GPEN/examples\n",
        "!rm -fr imgs\n",
        "!mkdir imgs\n",
        "!rm -fr grays\n",
        "!mkdir grays\n",
        "!rm -fr ffhq-10\n",
        "!mkdir ffhq-10\n",
        "!rm -fr segs\n",
        "!mkdir segs\n",
        "%cd /content/GPEN/"
      ],
      "metadata": {
        "cellView": "form",
        "id": "tukyBO21qjGP"
      },
      "execution_count": null,
      "outputs": []
    },
    {
      "cell_type": "markdown",
      "metadata": {
        "id": "WDCm7xJee4c2"
      },
      "source": [
        "# **Download multiple images all at once**"
      ]
    },
    {
      "cell_type": "code",
      "metadata": {
        "id": "4tAqGLPpe0Ez",
        "cellView": "form"
      },
      "source": [
        "#@markdown ### **Download face enhancement results folder**\n",
        "from google.colab import files\n",
        "!zip -r /content/GPEN/examples/outs-bfr.zip /content/GPEN/examples/outs-bfr\n",
        "print(\"Starting download\")\n",
        "files.download('/content/GPEN/examples/outs-bfr.zip')"
      ],
      "execution_count": null,
      "outputs": []
    },
    {
      "cell_type": "code",
      "metadata": {
        "id": "B3-JMXM3e0wT",
        "cellView": "form"
      },
      "source": [
        "#@markdown ### **Download face colorization results folder**\n",
        "from google.colab import files\n",
        "!zip -r /content/GPEN/examples/outs-colorization.zip /content/GPEN/examples/outs-colorization\n",
        "print(\"Starting download\")\n",
        "files.download('/content/GPEN/examples/outs-colorization.zip')"
      ],
      "execution_count": null,
      "outputs": []
    },
    {
      "cell_type": "code",
      "source": [
        "#@markdown ### **Download FaceInpainting results folder**\n",
        "from google.colab import files\n",
        "\n",
        "!zip -r /content/GPEN/examples/outs-inpainting.zip /content/GPEN/examples/outs-inpainting\n",
        "print(\"Starting download\")\n",
        "files.download('/content/GPEN/examples/outs-inpainting.zip')"
      ],
      "metadata": {
        "cellView": "form",
        "id": "WxLSC8QXpxBV"
      },
      "execution_count": null,
      "outputs": []
    },
    {
      "cell_type": "code",
      "source": [
        "#@markdown ### **Download Segmentation2Face results folder**\n",
        "from google.colab import files\n",
        "\n",
        "!zip -r /content/GPEN/examples/outs-seg2face.zip /content/GPEN/examples/outs-seg2face\n",
        "\n",
        "print(\"Starting download\")\n",
        "files.download('/content/GPEN/examples/outs-seg2face.zip')"
      ],
      "metadata": {
        "cellView": "form",
        "id": "fhj4f8azqNXW"
      },
      "execution_count": null,
      "outputs": []
    }
  ]
}